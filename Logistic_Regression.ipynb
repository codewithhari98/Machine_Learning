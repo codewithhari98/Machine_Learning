{
  "cells": [
    {
      "cell_type": "markdown",
      "metadata": {
        "id": "view-in-github",
        "colab_type": "text"
      },
      "source": [
        "<a href=\"https://colab.research.google.com/github/codewithhari98/Machine_Learning/blob/main/Logistic_Regression.ipynb\" target=\"_parent\"><img src=\"https://colab.research.google.com/assets/colab-badge.svg\" alt=\"Open In Colab\"/></a>"
      ]
    },
    {
      "cell_type": "code",
      "execution_count": null,
      "id": "9061512c",
      "metadata": {
        "id": "9061512c",
        "outputId": "1a717e9f-16c8-4c74-bd26-2e46da1496b9"
      },
      "outputs": [
        {
          "name": "stdout",
          "output_type": "stream",
          "text": [
            "Accuracy on test set by our model  :   53.333333333333336\n",
            "Accuracy on test set by sklearn model  :   100.0\n"
          ]
        }
      ],
      "source": [
        "\n",
        "#This Program is for Logistic Regression from scratch on Iris Dataset\n",
        "\n",
        "from sklearn.datasets import load_iris\n",
        "import math\n",
        "import numpy as np\n",
        "import matplotlib.pyplot as plt\n",
        "import pandas as pd\n",
        "from itertools import combinations,permutations\n",
        "from sklearn.model_selection import train_test_split\n",
        "from sklearn.linear_model import LogisticRegression\n",
        "\n",
        "iris = load_iris()\n",
        "\n",
        "class Logistic_Regression() :\n",
        "    def __init__( self, learning_rate, iterations ) :        \n",
        "        self.learning_rate = learning_rate        \n",
        "        self.iterations = iterations\n",
        "        \n",
        "    def fit( self, X, Y ) :\n",
        "        self.m= X.shape[0]\n",
        "        self.n= X.shape[1]\n",
        "        self.x = X \n",
        "        self.y = Y\n",
        "        #initial weights array created with dummy zeros \n",
        "        self.W = np.zeros( self.n )\n",
        "        self.b = 0\n",
        "        for i in range( self.iterations ) :            \n",
        "            self.update_weights()            \n",
        "        return self\n",
        "    \n",
        "    def sigmoidfunc(self,x_sig):\n",
        "        #This is the main sigmoid function 1/(1+e^(-x))\n",
        "        sig = 1 / (1 + np.exp( - ( x_sig.dot( self.W ) + self.b)))\n",
        "        return sig  \n",
        "                              \n",
        "    def update_weights( self ) :           \n",
        "        sigfunc = self.sigmoidfunc(self.x)   \n",
        "        \n",
        "        #We are calculating the gradient and modifying the weights and bias respectively \n",
        "        tempvar = np.reshape(( sigfunc - self.y.T ) ,self.m)       \n",
        "        dW = np.dot( self.x.T, tempvar ) / self.m         \n",
        "        db = np.sum( tempvar ) / self.m \n",
        "            \n",
        "        self.W = self.W - self.learning_rate * dW    \n",
        "        self.b = self.b - self.learning_rate * db\n",
        "        \n",
        "        return self\n",
        "      \n",
        "    def predict( self, X ) :\n",
        "        #if sigmoid value is >0.5 return 1 else return 0 for estimation\n",
        "        sigcheck = self.sigmoidfunc(X)      \n",
        "        Y = np.where(sigcheck > 0.5, 1, 0 )        \n",
        "        return Y\n",
        "\n",
        "\n",
        "def main() :\n",
        "    x,y=iris.data,iris.target\n",
        "\n",
        "    X_train, X_test, Y_train, Y_test = train_test_split(x, y, test_size = 0.1,random_state=0)\n",
        "    \"\"\"\n",
        "    we are comparing the accuracy of our model vs  \n",
        "    the accuracy of the another model using inbuilt/predefined funtionLogisticRegression\n",
        "    \"\"\"\n",
        "    model = Logistic_Regression( learning_rate = 0.01, iterations = 100 )\n",
        "    model.fit( X_train, Y_train )  \n",
        "    \n",
        "    model_predef_func = LogisticRegression()    \n",
        "    model_predef_func.fit( X_train, Y_train)\n",
        "    \n",
        "    Y_pred = model.predict( X_test )    \n",
        "    Y_pred_predef_func = model_predef_func.predict( X_test )\n",
        "      \n",
        "    # Performance measured by comparing number of correctly predicted models   \n",
        "    correctly_classified_our_model = 0    \n",
        "    correctly_classified_sklearn_model=0\n",
        "\n",
        "    #count used as index to compare the corresponding values\n",
        "    count = 0    \n",
        "    for count in range( np.size( Y_pred ) ) :  \n",
        "        \n",
        "        if Y_test[count] == Y_pred[count] :            \n",
        "            correctly_classified_our_model = correctly_classified_our_model + 1\n",
        "          \n",
        "        if Y_test[count] == Y_pred_predef_func[count] :            \n",
        "            correctly_classified_sklearn_model = correctly_classified_sklearn_model + 1\n",
        "              \n",
        "        count = count + 1\n",
        "\n",
        "    print( \"Accuracy on test set by our model  :  \", ( correctly_classified_our_model / count ) * 100 )\n",
        "    print( \"Accuracy on test set by sklearn model  :  \", ( correctly_classified_sklearn_model / count ) * 100 )\n",
        "  \n",
        "\n",
        "if __name__ == \"__main__\" : \n",
        "      \n",
        "    main()"
      ]
    },
    {
      "cell_type": "code",
      "execution_count": null,
      "id": "2cd5e6e9",
      "metadata": {
        "id": "2cd5e6e9"
      },
      "outputs": [],
      "source": [
        ""
      ]
    }
  ],
  "metadata": {
    "kernelspec": {
      "display_name": "Python 3 (ipykernel)",
      "language": "python",
      "name": "python3"
    },
    "language_info": {
      "codemirror_mode": {
        "name": "ipython",
        "version": 3
      },
      "file_extension": ".py",
      "mimetype": "text/x-python",
      "name": "python",
      "nbconvert_exporter": "python",
      "pygments_lexer": "ipython3",
      "version": "3.9.7"
    },
    "colab": {
      "name": "Logistic Regression-1001852001.ipynb",
      "provenance": [],
      "include_colab_link": true
    }
  },
  "nbformat": 4,
  "nbformat_minor": 5
}